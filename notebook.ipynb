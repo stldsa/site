{
 "cells": [
  {
   "cell_type": "code",
   "execution_count": 1,
   "metadata": {},
   "outputs": [
    {
     "data": {
      "application/vnd.jupyter.widget-view+json": {
       "model_id": "e294aceb251e4f63be3478ebab61d3e9",
       "version_major": 2,
       "version_minor": 0
      },
      "text/plain": [
       "Output()"
      ]
     },
     "metadata": {},
     "output_type": "display_data"
    },
    {
     "data": {
      "text/html": [
       "<pre style=\"white-space:pre;overflow-x:auto;line-height:normal;font-family:Menlo,'DejaVu Sans Mono',consolas,'Courier New',monospace\"></pre>\n"
      ],
      "text/plain": []
     },
     "metadata": {},
     "output_type": "display_data"
    }
   ],
   "source": [
    "from dj_notebook import activate\n",
    "\n",
    "plus = activate()"
   ]
  },
  {
   "cell_type": "code",
   "execution_count": 3,
   "metadata": {},
   "outputs": [
    {
     "data": {
      "text/plain": [
       "<QuerySet [<User: admin@example.com>]>"
      ]
     },
     "execution_count": 3,
     "metadata": {},
     "output_type": "execute_result"
    }
   ],
   "source": [
    "from django.contrib.auth import get_user_model\n",
    "User = get_user_model()\n",
    "User.objects.all()"
   ]
  },
  {
   "cell_type": "code",
   "execution_count": 4,
   "metadata": {},
   "outputs": [
    {
     "data": {
      "text/plain": [
       "<QuerySet [<User: admin@example.com>]>"
      ]
     },
     "execution_count": 4,
     "metadata": {},
     "output_type": "execute_result"
    }
   ],
   "source": [
    "plus.User.objects.all()"
   ]
  },
  {
   "cell_type": "code",
   "execution_count": 5,
   "metadata": {},
   "outputs": [
    {
     "data": {
      "text/html": [
       "<img src=\"https://mermaid.ink/img/Y2xhc3NEaWFncmFtCiAgZGphbmdvX2RiX21vZGVsc191dGlsc19BbHRlcnNEYXRhIDx8LS0gZGphbmdvX2RiX21vZGVsc19iYXNlX01vZGVsCiAgZGphbmdvX2RiX21vZGVsc19iYXNlX01vZGVsIDx8LS0gZGphbmdvX2NvbnRyaWJfYXV0aF9iYXNlX3VzZXJfQWJzdHJhY3RCYXNlVXNlcgogIGNsYXNzIGRqYW5nb19jb250cmliX2F1dGhfYmFzZV91c2VyX0Fic3RyYWN0QmFzZVVzZXJbImRqYW5nby5jb250cmliLmF1dGguYmFzZV91c2VyOjpBYnN0cmFjdEJhc2VVc2VyIl0KICBjbGFzcyBkamFuZ29fZGJfbW9kZWxzX2Jhc2VfTW9kZWxbImRqYW5nby5kYi5tb2RlbHMuYmFzZTo6TW9kZWwiXQogIGRqYW5nb19kYl9tb2RlbHNfYmFzZV9Nb2RlbCA8fC0tIGRqYW5nb19jb250cmliX2F1dGhfbW9kZWxzX1Blcm1pc3Npb25zTWl4aW4KICBkamFuZ29fY29udHJpYl9hdXRoX2Jhc2VfdXNlcl9BYnN0cmFjdEJhc2VVc2VyIDx8LS0gc3RsZHNhX3VzZXJzX21vZGVsc19Vc2VyCiAgY2xhc3MgZGphbmdvX2RiX21vZGVsc191dGlsc19BbHRlcnNEYXRhWyJkamFuZ28uZGIubW9kZWxzLnV0aWxzOjpBbHRlcnNEYXRhIl0KICBjbGFzcyBzdGxkc2FfdXNlcnNfbW9kZWxzX1VzZXJbInN0bGRzYS51c2Vycy5tb2RlbHM6OlVzZXIiXQogIGRqYW5nb19jb250cmliX2F1dGhfbW9kZWxzX1Blcm1pc3Npb25zTWl4aW4gPHwtLSBzdGxkc2FfdXNlcnNfbW9kZWxzX1VzZXIKICBjbGFzcyBkamFuZ29fY29udHJpYl9hdXRoX21vZGVsc19QZXJtaXNzaW9uc01peGluWyJkamFuZ28uY29udHJpYi5hdXRoLm1vZGVsczo6UGVybWlzc2lvbnNNaXhpbiJd\"/>"
      ],
      "text/plain": [
       "<IPython.core.display.Image object>"
      ]
     },
     "metadata": {},
     "output_type": "display_data"
    }
   ],
   "source": [
    "plus.diagram(plus.User)"
   ]
  },
  {
   "cell_type": "code",
   "execution_count": 6,
   "metadata": {},
   "outputs": [
    {
     "data": {
      "text/html": [
       "<pre style=\"white-space:pre;overflow-x:auto;line-height:normal;font-family:Menlo,'DejaVu Sans Mono',consolas,'Courier New',monospace\"></pre>\n"
      ],
      "text/plain": []
     },
     "metadata": {},
     "output_type": "display_data"
    },
    {
     "data": {
      "text/html": [
       "<pre style=\"white-space:pre;overflow-x:auto;line-height:normal;font-family:Menlo,'DejaVu Sans Mono',consolas,'Courier New',monospace\"><span style=\"color: #800000; text-decoration-color: #800000; font-weight: bold\">Warning: Model &lt;class </span><span style=\"color: #800000; text-decoration-color: #800000; font-weight: bold\">'stldsa.users.models.User'</span><span style=\"color: #800000; text-decoration-color: #800000; font-weight: bold\">&gt; has more than </span><span style=\"color: #800000; text-decoration-color: #800000; font-weight: bold\">20</span><span style=\"color: #800000; text-decoration-color: #800000; font-weight: bold\"> nodes. The diagram may be too large to render.</span>\n",
       "</pre>\n"
      ],
      "text/plain": [
       "\u001b[1;31mWarning: Model \u001b[0m\u001b[1;31m<\u001b[0m\u001b[1;31mclass\u001b[0m\u001b[1;31m \u001b[0m\u001b[1;31m'stldsa.users.models.User'\u001b[0m\u001b[1;31m>\u001b[0m\u001b[1;31m has more than \u001b[0m\u001b[1;31m20\u001b[0m\u001b[1;31m nodes. The diagram may be too large to render.\u001b[0m\n"
      ]
     },
     "metadata": {},
     "output_type": "display_data"
    },
    {
     "data": {
      "text/html": [
       "<img src=\"https://mermaid.ink/img/Zmxvd2NoYXJ0IFRECiAgRW1haWxBZGRyZXNzIC0tLSBVc2VyCiAgU29jaWFsQWNjb3VudCAtLS0gVXNlcgogIFBlcnNvbiAtLS0gVXNlcgogIExvZ0VudHJ5IC0tLSBVc2VyCiAgVG9rZW4gLS0tIFVzZXIKICBVc2VyIC0tLSBBYnN0cmFjdEJhc2VVc2VyCiAgVXNlciAtLS0gR3JvdXAKICBVc2VyIC0tLSBQZXJtaXNzaW9uCiAgVXNlciAtLS0gUGVybWlzc2lvbnNNaXhpbgogIERvY3VtZW50IC0tLSBVc2VyCiAgVXBsb2FkZWREb2N1bWVudCAtLS0gVXNlcgogIEltYWdlIC0tLSBVc2VyCiAgVXBsb2FkZWRJbWFnZSAtLS0gVXNlcgogIENvbW1lbnQgLS0tIFVzZXIKICBDb21tZW50UmVwbHkgLS0tIFVzZXIKICBQYWdlIC0tLSBVc2VyCiAgUGFnZUxvZ0VudHJ5IC0tLSBVc2VyCiAgUGFnZVN1YnNjcmlwdGlvbiAtLS0gVXNlcgogIFJldmlzaW9uIC0tLSBVc2VyCiAgVGFza1N0YXRlIC0tLSBVc2VyCiAgV29ya2Zsb3dTdGF0ZSAtLS0gVXNlcgogIE1vZGVsTG9nRW50cnkgLS0tIFVzZXIKICBVc2VyUHJvZmlsZSAtLS0gVXNlcgo=\"/>"
      ],
      "text/plain": [
       "<IPython.core.display.Image object>"
      ]
     },
     "metadata": {},
     "output_type": "display_data"
    }
   ],
   "source": [
    "plus.model_graph(plus.User)"
   ]
  },
  {
   "cell_type": "code",
   "execution_count": 7,
   "metadata": {},
   "outputs": [
    {
     "data": {
      "text/html": [
       "<div>\n",
       "<style scoped>\n",
       "    .dataframe tbody tr th:only-of-type {\n",
       "        vertical-align: middle;\n",
       "    }\n",
       "\n",
       "    .dataframe tbody tr th {\n",
       "        vertical-align: top;\n",
       "    }\n",
       "\n",
       "    .dataframe thead th {\n",
       "        text-align: right;\n",
       "    }\n",
       "</style>\n",
       "<table border=\"1\" class=\"dataframe\">\n",
       "  <thead>\n",
       "    <tr style=\"text-align: right;\">\n",
       "      <th></th>\n",
       "      <th>id</th>\n",
       "      <th>password</th>\n",
       "      <th>last_login</th>\n",
       "      <th>is_superuser</th>\n",
       "      <th>first_name</th>\n",
       "      <th>last_name</th>\n",
       "      <th>email</th>\n",
       "      <th>uuid</th>\n",
       "      <th>is_active</th>\n",
       "      <th>is_admin</th>\n",
       "    </tr>\n",
       "  </thead>\n",
       "  <tbody>\n",
       "    <tr>\n",
       "      <th>0</th>\n",
       "      <td>1</td>\n",
       "      <td>argon2$argon2id$v=19$m=102400,t=2,p=8$Zmd1ZlBT...</td>\n",
       "      <td>None</td>\n",
       "      <td>True</td>\n",
       "      <td>None</td>\n",
       "      <td>None</td>\n",
       "      <td>admin@example.com</td>\n",
       "      <td>None</td>\n",
       "      <td>True</td>\n",
       "      <td>True</td>\n",
       "    </tr>\n",
       "  </tbody>\n",
       "</table>\n",
       "</div>"
      ],
      "text/plain": [
       "   id                                           password last_login  \\\n",
       "0   1  argon2$argon2id$v=19$m=102400,t=2,p=8$Zmd1ZlBT...       None   \n",
       "\n",
       "   is_superuser first_name last_name              email  uuid  is_active  \\\n",
       "0          True       None      None  admin@example.com  None       True   \n",
       "\n",
       "   is_admin  \n",
       "0      True  "
      ]
     },
     "execution_count": 7,
     "metadata": {},
     "output_type": "execute_result"
    }
   ],
   "source": [
    "plus.read_frame(plus.User.objects.all())"
   ]
  },
  {
   "cell_type": "code",
   "execution_count": 1,
   "metadata": {},
   "outputs": [
    {
     "name": "stdout",
     "output_type": "stream",
     "text": [
      "Please visit this URL to authorize this application: https://accounts.google.com/o/oauth2/auth?response_type=code&client_id=239376328010-8s6kn80rejv7p5850rkvu59skq6ijvna.apps.googleusercontent.com&redirect_uri=http%3A%2F%2Flocalhost%3A54917%2F&scope=https%3A%2F%2Fwww.googleapis.com%2Fauth%2Fcalendar&state=OBzsAAZZcBGVlmo2HwKxWTjsxxoXHp&access_type=offline\n"
     ]
    },
    {
     "ename": "KeyboardInterrupt",
     "evalue": "",
     "output_type": "error",
     "traceback": [
      "\u001b[0;31m---------------------------------------------------------------------------\u001b[0m",
      "\u001b[0;31mKeyboardInterrupt\u001b[0m                         Traceback (most recent call last)",
      "Cell \u001b[0;32mIn[1], line 6\u001b[0m\n\u001b[1;32m      1\u001b[0m \u001b[38;5;28;01mfrom\u001b[39;00m \u001b[38;5;21;01mgoogle_auth_oauthlib\u001b[39;00m\u001b[38;5;21;01m.\u001b[39;00m\u001b[38;5;21;01mflow\u001b[39;00m \u001b[38;5;28;01mimport\u001b[39;00m InstalledAppFlow\n\u001b[1;32m      3\u001b[0m creds \u001b[38;5;241m=\u001b[39m \u001b[43mInstalledAppFlow\u001b[49m\u001b[38;5;241;43m.\u001b[39;49m\u001b[43mfrom_client_secrets_file\u001b[49m\u001b[43m(\u001b[49m\n\u001b[1;32m      4\u001b[0m \u001b[43m    \u001b[49m\u001b[43mclient_secrets_file\u001b[49m\u001b[38;5;241;43m=\u001b[39;49m\u001b[38;5;124;43m\"\u001b[39;49m\u001b[38;5;124;43mclient_secret.json\u001b[39;49m\u001b[38;5;124;43m\"\u001b[39;49m\u001b[43m,\u001b[49m\n\u001b[1;32m      5\u001b[0m \u001b[43m    \u001b[49m\u001b[43mscopes\u001b[49m\u001b[38;5;241;43m=\u001b[39;49m\u001b[43m[\u001b[49m\u001b[38;5;124;43m\"\u001b[39;49m\u001b[38;5;124;43mhttps://www.googleapis.com/auth/calendar\u001b[39;49m\u001b[38;5;124;43m\"\u001b[39;49m\u001b[43m]\u001b[49m\n\u001b[0;32m----> 6\u001b[0m \u001b[43m)\u001b[49m\u001b[38;5;241;43m.\u001b[39;49m\u001b[43mrun_local_server\u001b[49m\u001b[43m(\u001b[49m\u001b[43mport\u001b[49m\u001b[38;5;241;43m=\u001b[39;49m\u001b[38;5;241;43m0\u001b[39;49m\u001b[43m,\u001b[49m\u001b[43m \u001b[49m\u001b[43mopen_browser\u001b[49m\u001b[38;5;241;43m=\u001b[39;49m\u001b[38;5;28;43;01mFalse\u001b[39;49;00m\u001b[43m)\u001b[49m\n\u001b[1;32m      7\u001b[0m creds\n",
      "File \u001b[0;32m/workspaces/site/.venv/lib/python3.11/site-packages/google_auth_oauthlib/flow.py:450\u001b[0m, in \u001b[0;36mInstalledAppFlow.run_local_server\u001b[0;34m(self, host, bind_addr, port, authorization_prompt_message, success_message, open_browser, redirect_uri_trailing_slash, timeout_seconds, token_audience, browser, **kwargs)\u001b[0m\n\u001b[1;32m    447\u001b[0m     \u001b[38;5;28mprint\u001b[39m(authorization_prompt_message\u001b[38;5;241m.\u001b[39mformat(url\u001b[38;5;241m=\u001b[39mauth_url))\n\u001b[1;32m    449\u001b[0m local_server\u001b[38;5;241m.\u001b[39mtimeout \u001b[38;5;241m=\u001b[39m timeout_seconds\n\u001b[0;32m--> 450\u001b[0m \u001b[43mlocal_server\u001b[49m\u001b[38;5;241;43m.\u001b[39;49m\u001b[43mhandle_request\u001b[49m\u001b[43m(\u001b[49m\u001b[43m)\u001b[49m\n\u001b[1;32m    452\u001b[0m \u001b[38;5;66;03m# Note: using https here because oauthlib is very picky that\u001b[39;00m\n\u001b[1;32m    453\u001b[0m \u001b[38;5;66;03m# OAuth 2.0 should only occur over https.\u001b[39;00m\n\u001b[1;32m    454\u001b[0m authorization_response \u001b[38;5;241m=\u001b[39m wsgi_app\u001b[38;5;241m.\u001b[39mlast_request_uri\u001b[38;5;241m.\u001b[39mreplace(\u001b[38;5;124m\"\u001b[39m\u001b[38;5;124mhttp\u001b[39m\u001b[38;5;124m\"\u001b[39m, \u001b[38;5;124m\"\u001b[39m\u001b[38;5;124mhttps\u001b[39m\u001b[38;5;124m\"\u001b[39m)\n",
      "File \u001b[0;32m/usr/local/lib/python3.11/socketserver.py:295\u001b[0m, in \u001b[0;36mBaseServer.handle_request\u001b[0;34m(self)\u001b[0m\n\u001b[1;32m    292\u001b[0m selector\u001b[38;5;241m.\u001b[39mregister(\u001b[38;5;28mself\u001b[39m, selectors\u001b[38;5;241m.\u001b[39mEVENT_READ)\n\u001b[1;32m    294\u001b[0m \u001b[38;5;28;01mwhile\u001b[39;00m \u001b[38;5;28;01mTrue\u001b[39;00m:\n\u001b[0;32m--> 295\u001b[0m     ready \u001b[38;5;241m=\u001b[39m \u001b[43mselector\u001b[49m\u001b[38;5;241;43m.\u001b[39;49m\u001b[43mselect\u001b[49m\u001b[43m(\u001b[49m\u001b[43mtimeout\u001b[49m\u001b[43m)\u001b[49m\n\u001b[1;32m    296\u001b[0m     \u001b[38;5;28;01mif\u001b[39;00m ready:\n\u001b[1;32m    297\u001b[0m         \u001b[38;5;28;01mreturn\u001b[39;00m \u001b[38;5;28mself\u001b[39m\u001b[38;5;241m.\u001b[39m_handle_request_noblock()\n",
      "File \u001b[0;32m/usr/local/lib/python3.11/selectors.py:415\u001b[0m, in \u001b[0;36m_PollLikeSelector.select\u001b[0;34m(self, timeout)\u001b[0m\n\u001b[1;32m    413\u001b[0m ready \u001b[38;5;241m=\u001b[39m []\n\u001b[1;32m    414\u001b[0m \u001b[38;5;28;01mtry\u001b[39;00m:\n\u001b[0;32m--> 415\u001b[0m     fd_event_list \u001b[38;5;241m=\u001b[39m \u001b[38;5;28mself\u001b[39m\u001b[38;5;241m.\u001b[39m_selector\u001b[38;5;241m.\u001b[39mpoll(timeout)\n\u001b[1;32m    416\u001b[0m \u001b[38;5;28;01mexcept\u001b[39;00m \u001b[38;5;167;01mInterruptedError\u001b[39;00m:\n\u001b[1;32m    417\u001b[0m     \u001b[38;5;28;01mreturn\u001b[39;00m ready\n",
      "\u001b[0;31mKeyboardInterrupt\u001b[0m: "
     ]
    }
   ],
   "source": [
    "\n",
    "from google_auth_oauthlib.flow import InstalledAppFlow\n",
    "\n",
    "creds = InstalledAppFlow.from_client_secrets_file(\n",
    "    client_secrets_file=\"client_secret.json\",\n",
    "    scopes=[\"https://www.googleapis.com/auth/calendar\"]\n",
    ").run_local_server(port=0, open_browser=False)\n",
    "creds\n",
    "\n"
   ]
  },
  {
   "cell_type": "code",
   "execution_count": null,
   "metadata": {},
   "outputs": [],
   "source": []
  }
 ],
 "metadata": {
  "kernelspec": {
   "display_name": ".venv",
   "language": "python",
   "name": "python3"
  },
  "language_info": {
   "codemirror_mode": {
    "name": "ipython",
    "version": 3
   },
   "file_extension": ".py",
   "mimetype": "text/x-python",
   "name": "python",
   "nbconvert_exporter": "python",
   "pygments_lexer": "ipython3",
   "version": "3.11.7"
  }
 },
 "nbformat": 4,
 "nbformat_minor": 2
}
